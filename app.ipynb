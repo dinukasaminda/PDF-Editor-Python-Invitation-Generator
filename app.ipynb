{
 "cells": [
  {
   "cell_type": "code",
   "execution_count": 1,
   "metadata": {},
   "outputs": [],
   "source": [
    "import pandas as pd"
   ]
  },
  {
   "cell_type": "code",
   "execution_count": 9,
   "metadata": {},
   "outputs": [
    {
     "name": "stdout",
     "output_type": "stream",
     "text": [
      "     Side      Name IsOnline  Count                  PrintName\n",
      "1  Dinuka  paranama      Yes    2.0  Mr. & Mrs. Mathangaweera \n",
      "2  Dinuka   nilupul      Yes    2.0       Mr. & Mrs. Ekanayake\n",
      "3  Dinuka    naveen      Yes    1.0     Mr. Naveen Weerasekara\n",
      "4  Dinuka    uditha      Yes    1.0     Mr. Uditha Jayawardane\n",
      "5  Dinuka     dasun      Yes    NaN       Mr. Dasun Welagedara\n"
     ]
    }
   ],
   "source": [
    "# open users.csv and convert it to pandas df\n",
    "\n",
    "users = pd.read_csv('wedding - OnlineInvitations.csv')\n",
    "\n",
    "users.columns = ['Side','Name','IsOnline','Count','PrintName']\n",
    "\n",
    "# filter by is Online yes \n",
    "users = users[users['IsOnline'] == 'Yes']\n",
    "\n",
    "# print the first 5 rows of the dataframe\n",
    "print(users.head())"
   ]
  },
  {
   "cell_type": "code",
   "execution_count": 188,
   "metadata": {},
   "outputs": [],
   "source": [
    "# pip install PyPDF2 reportlab"
   ]
  },
  {
   "cell_type": "code",
   "execution_count": 10,
   "metadata": {},
   "outputs": [],
   "source": [
    "import io\n",
    "from PyPDF2 import PdfReader, PdfWriter, PageObject\n",
    "from reportlab.pdfgen import canvas\n",
    "from reportlab.lib.pagesizes import letter\n",
    "from reportlab.pdfbase.ttfonts import TTFont\n",
    "from reportlab.pdfbase import pdfmetrics\n"
   ]
  },
  {
   "cell_type": "code",
   "execution_count": 11,
   "metadata": {},
   "outputs": [],
   "source": [
    "\n",
    "# Usage example\n",
    "input_pdf_path = \"./input.pdf\"\n",
    "# custom_font_name = \"Merriweather-Regular.ttf\"\n",
    "# custom_font_path = \"./Merriweather-Regular.ttf\"\n",
    "\n",
    "custom_font_name = \"PlaywriteIS-VariableFont_wght.ttf\"\n",
    "custom_font_path = \"./PlaywriteIS-VariableFont_wght.ttf\"\n"
   ]
  },
  {
   "cell_type": "code",
   "execution_count": 15,
   "metadata": {},
   "outputs": [],
   "source": [
    "from PyPDF2 import PdfFileWriter, PdfFileReader\n",
    "import io\n",
    "from reportlab.pdfgen import canvas\n",
    "from reportlab.lib.pagesizes import letter\n",
    "\n",
    "def add_text_to_pdf(input_pdf_path, output_pdf_path, text):\n",
    "\n",
    "    pdfmetrics.registerFont(TTFont(custom_font_name, custom_font_path))\n",
    "\n",
    "    # read your existing PDF\n",
    "    existing_pdf = PdfReader(open(input_pdf_path, \"rb\"))\n",
    "    page = existing_pdf.pages[0]\n",
    "\n",
    "    packet = io.BytesIO()\n",
    "\n",
    "     # Get the size of the current page\n",
    "    page_width = page.mediabox.width\n",
    "    page_height = page.mediabox.height\n",
    "\n",
    "    font_size = 11\n",
    "\n",
    "    # Calculate the text width to center it\n",
    "    text_width = pdfmetrics.stringWidth(text, custom_font_name, font_size)\n",
    "\n",
    "    #print(text_width,page_width)\n",
    "    x_position = (float(page_width) - float(text_width)) / 2\n",
    "    y_position = 362\n",
    "\n",
    "    can = canvas.Canvas(packet, pagesize=letter)\n",
    "    can.setFont(custom_font_name, font_size)\n",
    "    can.drawString(x_position, y_position, text)\n",
    "    can.save()\n",
    "\n",
    "    #move to the beginning of the StringIO buffer\n",
    "    packet.seek(0)\n",
    "\n",
    "    # create a new PDF with Reportlab\n",
    "    new_pdf = PdfReader(packet)\n",
    "   \n",
    "    output = PdfWriter()\n",
    "    \n",
    "    page.merge_page(new_pdf.pages[0])\n",
    "    output.add_page(page)\n",
    "    # finally, write \"output\" to a real file\n",
    "    output_stream = open(output_pdf_path, \"wb\")\n",
    "    output.write(output_stream)\n",
    "    output_stream.close()\n"
   ]
  },
  {
   "cell_type": "code",
   "execution_count": 19,
   "metadata": {},
   "outputs": [
    {
     "name": "stdout",
     "output_type": "stream",
     "text": [
      "New File:  paranama_Invitation_Wedding_Hiruni_AND_Dinuka.pdf Mr. & Mrs. Mathangaweera \n",
      "New File:  nilupul_Invitation_Wedding_Hiruni_AND_Dinuka.pdf Mr. & Mrs. Ekanayake\n",
      "New File:  naveen_Invitation_Wedding_Hiruni_AND_Dinuka.pdf Mr. Naveen Weerasekara\n",
      "New File:  uditha_Invitation_Wedding_Hiruni_AND_Dinuka.pdf Mr. Uditha Jayawardane\n",
      "New File:  dasun_Invitation_Wedding_Hiruni_AND_Dinuka.pdf Mr. Dasun Welagedara\n",
      "New File:  nisal malli_Invitation_Wedding_Hiruni_AND_Dinuka.pdf Mr. & Mrs. Kobbekaduwa\n",
      "New File:  chathra_Invitation_Wedding_Hiruni_AND_Dinuka.pdf Mr. Chathra\n",
      "New File:  sujeewa_Invitation_Wedding_Hiruni_AND_Dinuka.pdf Mr. & Mrs. De Silva\n",
      "New File:  denith_Invitation_Wedding_Hiruni_AND_Dinuka.pdf Mr. Denit Dhanushanth\n",
      "New File:  waruna_Invitation_Wedding_Hiruni_AND_Dinuka.pdf Mr. Waruna and family\n",
      "New File:  maduka_Invitation_Wedding_Hiruni_AND_Dinuka.pdf Mr. Maduka Dilshan\n",
      "New File:  isanka_Invitation_Wedding_Hiruni_AND_Dinuka.pdf Mr. Isanka Madhuwantha\n",
      "New File:  bhagya_Invitation_Wedding_Hiruni_AND_Dinuka.pdf Mr. Bhagya Hemachandra \n",
      "New File:  tharindu_Invitation_Wedding_Hiruni_AND_Dinuka.pdf Mr Tharindu\n",
      "New File:  mayantha_Invitation_Wedding_Hiruni_AND_Dinuka.pdf Mr. & Mrs. Jayawardena\n",
      "New File:  prasanna_Invitation_Wedding_Hiruni_AND_Dinuka.pdf Mr. Prasanna Ekanayaka\n",
      "New File:  shehan_Invitation_Wedding_Hiruni_AND_Dinuka.pdf Mr. Shehan Wijethunga\n",
      "New File:  janith_Invitation_Wedding_Hiruni_AND_Dinuka.pdf Mr. Janith Yapa\n",
      "New File:  ravindu_Invitation_Wedding_Hiruni_AND_Dinuka.pdf Mr. Ravindu Kavishka\n",
      "New File:  sandaruwan malli_Invitation_Wedding_Hiruni_AND_Dinuka.pdf Mr. Sandaruwan Fernando\n",
      "New File:  promod malli_Invitation_Wedding_Hiruni_AND_Dinuka.pdf Mr. Pramod Ranasinghe\n",
      "New File:  Romal sathnidu_Invitation_Wedding_Hiruni_AND_Dinuka.pdf Mr. Romal Wijekoon\n",
      "New File:  malaka_Invitation_Wedding_Hiruni_AND_Dinuka.pdf Mr. Malaka Buddhimal\n",
      "New File:  yasith_Invitation_Wedding_Hiruni_AND_Dinuka.pdf Mr. Yasith Dissanayake\n",
      "New File:  Supun_Invitation_Wedding_Hiruni_AND_Dinuka.pdf Mr. Supun Kumarasinghe\n",
      "New File:  sachini nangi_Invitation_Wedding_Hiruni_AND_Dinuka.pdf Sachini Nangi & Family\n",
      "New File:  chinthaka aiya_Invitation_Wedding_Hiruni_AND_Dinuka.pdf Mr. & Mrs. Kumarasinghe\n",
      "New File:  loku akkala_Invitation_Wedding_Hiruni_AND_Dinuka.pdf Loku Akka & Family\n",
      "New File:  chuti punchi _Invitation_Wedding_Hiruni_AND_Dinuka.pdf Punchi & Family\n",
      "New File:  podi punchi_Invitation_Wedding_Hiruni_AND_Dinuka.pdf Punchi & Family\n",
      "New File:  thilini_Invitation_Wedding_Hiruni_AND_Dinuka.pdf Ms. Thilini Hendavitharana\n",
      "New File:  hasangi_Invitation_Wedding_Hiruni_AND_Dinuka.pdf Ms. Hasangi Manamperi\n",
      "New File:  rashmi_Invitation_Wedding_Hiruni_AND_Dinuka.pdf Ms. Rashmi Nishadi\n",
      "New File:  yd_Invitation_Wedding_Hiruni_AND_Dinuka.pdf Mrs. Yashodara Rathnayake\n",
      "New File:  tharani_Invitation_Wedding_Hiruni_AND_Dinuka.pdf Ms. Tharani Nilukshika\n",
      "New File:  nilu_Invitation_Wedding_Hiruni_AND_Dinuka.pdf Mr. & Mrs. Dissanayake\n",
      "New File:  asini_Invitation_Wedding_Hiruni_AND_Dinuka.pdf Ms. Aseni Wasala\n",
      "New File:  uthpala_Invitation_Wedding_Hiruni_AND_Dinuka.pdf Ms. Uthpala Kumari\n",
      "New File:  Salami_Invitation_Wedding_Hiruni_AND_Dinuka.pdf Mrs. Salani Chandrasekara\n",
      "New File:  Ayesha akka_Invitation_Wedding_Hiruni_AND_Dinuka.pdf Ayesha Akka and Aiya\n",
      "New File:  Darsha akka_Invitation_Wedding_Hiruni_AND_Dinuka.pdf Mrs. Darsha Dilrukshi\n",
      "New File:  Thiruni_Invitation_Wedding_Hiruni_AND_Dinuka.pdf Thiruni Nangi\n",
      "New File:  Pasindu_Invitation_Wedding_Hiruni_AND_Dinuka.pdf Mr. Pasindu Isiwara\n"
     ]
    }
   ],
   "source": [
    "# iterate over users dataframe and add text to the pdf\n",
    "for index, row in users.iterrows():\n",
    "    pdf_file_name = f\"{row['Name']}_Invitation_Wedding_Hiruni_AND_Dinuka.pdf\"\n",
    "    output_pdf_path = f\"./outputs/{row['Side']}/{pdf_file_name}\"\n",
    "    text_to_add = f\"{row['PrintName']}\"\n",
    "\n",
    "    print(\"New File: \",pdf_file_name, text_to_add)\n",
    "    x_position = 75  # X position for the text\n",
    "    y_position = 364  # Y position for the text\n",
    "    font_color = (1, 0, 0)  # Red color in RGB format (1, 0, 0)\n",
    "\n",
    "    \n",
    "    add_text_to_pdf(input_pdf_path, \n",
    "                    output_pdf_path, \n",
    "                    text_to_add, \n",
    "                    )\n",
    "    # break\n",
    "    "
   ]
  },
  {
   "cell_type": "code",
   "execution_count": null,
   "metadata": {},
   "outputs": [],
   "source": []
  }
 ],
 "metadata": {
  "kernelspec": {
   "display_name": "llm-res",
   "language": "python",
   "name": "python3"
  },
  "language_info": {
   "codemirror_mode": {
    "name": "ipython",
    "version": 3
   },
   "file_extension": ".py",
   "mimetype": "text/x-python",
   "name": "python",
   "nbconvert_exporter": "python",
   "pygments_lexer": "ipython3",
   "version": "3.10.12"
  }
 },
 "nbformat": 4,
 "nbformat_minor": 2
}
