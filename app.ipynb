{
 "cells": [
  {
   "cell_type": "code",
   "execution_count": 1,
   "metadata": {},
   "outputs": [],
   "source": [
    "import pandas as pd"
   ]
  },
  {
   "cell_type": "code",
   "execution_count": null,
   "metadata": {},
   "outputs": [],
   "source": [
    "# open users.csv and convert it to pandas df\n",
    "\n",
    "users = pd.read_csv('wedding - OnlineInvitations.csv')\n",
    "\n",
    "users.columns = ['Side','Name','IsOnline','Count','PrintName']\n",
    "\n",
    "# filter by is Online yes \n",
    "users = users[users['IsOnline'] == 'Yes']\n",
    "\n",
    "# print the first 5 rows of the dataframe\n",
    "print(users.head())"
   ]
  },
  {
   "cell_type": "code",
   "execution_count": 188,
   "metadata": {},
   "outputs": [],
   "source": [
    "# pip install PyPDF2 reportlab"
   ]
  },
  {
   "cell_type": "code",
   "execution_count": 10,
   "metadata": {},
   "outputs": [],
   "source": [
    "import io\n",
    "from PyPDF2 import PdfReader, PdfWriter, PageObject\n",
    "from reportlab.pdfgen import canvas\n",
    "from reportlab.lib.pagesizes import letter\n",
    "from reportlab.pdfbase.ttfonts import TTFont\n",
    "from reportlab.pdfbase import pdfmetrics\n"
   ]
  },
  {
   "cell_type": "code",
   "execution_count": 11,
   "metadata": {},
   "outputs": [],
   "source": [
    "\n",
    "# Usage example\n",
    "input_pdf_path = \"./input.pdf\"\n",
    "# custom_font_name = \"Merriweather-Regular.ttf\"\n",
    "# custom_font_path = \"./Merriweather-Regular.ttf\"\n",
    "\n",
    "custom_font_name = \"PlaywriteIS-VariableFont_wght.ttf\"\n",
    "custom_font_path = \"./PlaywriteIS-VariableFont_wght.ttf\"\n"
   ]
  },
  {
   "cell_type": "code",
   "execution_count": 15,
   "metadata": {},
   "outputs": [],
   "source": [
    "from PyPDF2 import PdfFileWriter, PdfFileReader\n",
    "import io\n",
    "from reportlab.pdfgen import canvas\n",
    "from reportlab.lib.pagesizes import letter\n",
    "\n",
    "def add_text_to_pdf(input_pdf_path, output_pdf_path, text):\n",
    "\n",
    "    pdfmetrics.registerFont(TTFont(custom_font_name, custom_font_path))\n",
    "\n",
    "    # read your existing PDF\n",
    "    existing_pdf = PdfReader(open(input_pdf_path, \"rb\"))\n",
    "    page = existing_pdf.pages[0]\n",
    "\n",
    "    packet = io.BytesIO()\n",
    "\n",
    "     # Get the size of the current page\n",
    "    page_width = page.mediabox.width\n",
    "    page_height = page.mediabox.height\n",
    "\n",
    "    font_size = 11\n",
    "\n",
    "    # Calculate the text width to center it\n",
    "    text_width = pdfmetrics.stringWidth(text, custom_font_name, font_size)\n",
    "\n",
    "    #print(text_width,page_width)\n",
    "    x_position = (float(page_width) - float(text_width)) / 2\n",
    "    y_position = 362\n",
    "\n",
    "    can = canvas.Canvas(packet, pagesize=letter)\n",
    "    can.setFont(custom_font_name, font_size)\n",
    "    can.drawString(x_position, y_position, text)\n",
    "    can.save()\n",
    "\n",
    "    #move to the beginning of the StringIO buffer\n",
    "    packet.seek(0)\n",
    "\n",
    "    # create a new PDF with Reportlab\n",
    "    new_pdf = PdfReader(packet)\n",
    "   \n",
    "    output = PdfWriter()\n",
    "    \n",
    "    page.merge_page(new_pdf.pages[0])\n",
    "    output.add_page(page)\n",
    "    # finally, write \"output\" to a real file\n",
    "    output_stream = open(output_pdf_path, \"wb\")\n",
    "    output.write(output_stream)\n",
    "    output_stream.close()\n"
   ]
  },
  {
   "cell_type": "code",
   "execution_count": null,
   "metadata": {},
   "outputs": [],
   "source": [
    "# iterate over users dataframe and add text to the pdf\n",
    "for index, row in users.iterrows():\n",
    "    pdf_file_name = f\"{row['Name']}_Invitation_Wedding_Hiruni_AND_Dinuka.pdf\"\n",
    "    output_pdf_path = f\"./outputs/{row['Side']}/{pdf_file_name}\"\n",
    "    text_to_add = f\"{row['PrintName']}\"\n",
    "\n",
    "    print(\"New File: \",pdf_file_name, text_to_add)\n",
    "    x_position = 75  # X position for the text\n",
    "    y_position = 364  # Y position for the text\n",
    "    font_color = (1, 0, 0)  # Red color in RGB format (1, 0, 0)\n",
    "\n",
    "    \n",
    "    add_text_to_pdf(input_pdf_path, \n",
    "                    output_pdf_path, \n",
    "                    text_to_add, \n",
    "                    )\n",
    "    # break\n",
    "    "
   ]
  }
 ],
 "metadata": {
  "kernelspec": {
   "display_name": "llm-res",
   "language": "python",
   "name": "python3"
  },
  "language_info": {
   "codemirror_mode": {
    "name": "ipython",
    "version": 3
   },
   "file_extension": ".py",
   "mimetype": "text/x-python",
   "name": "python",
   "nbconvert_exporter": "python",
   "pygments_lexer": "ipython3",
   "version": "3.10.12"
  }
 },
 "nbformat": 4,
 "nbformat_minor": 2
}
